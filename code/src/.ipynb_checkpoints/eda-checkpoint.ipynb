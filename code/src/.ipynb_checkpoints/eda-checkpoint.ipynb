{
 "cells": [
  {
   "cell_type": "code",
   "execution_count": null,
   "metadata": {},
   "outputs": [],
   "source": [
    "import numpy as np\n",
    "import pandas as pd\n",
    "import seaborn as sns\n",
    "import matplotlib.pyplot as plt\n"
   ]
  },
  {
   "cell_type": "code",
   "execution_count": null,
   "metadata": {},
   "outputs": [],
   "source": [
    "cases_train = pd.read_csv('../data/cases_2021_train.csv')\n",
    "cases_test = pd.read_csv('../data/cases_2021_test.csv')\n",
    "location = pd.read_csv('../data/location_2021.csv')"
   ]
  },
  {
   "cell_type": "code",
   "execution_count": null,
   "metadata": {},
   "outputs": [],
   "source": [
    "cases_train.info()\n",
    "cases_test.info()\n",
    "location.info()"
   ]
  },
  {
   "cell_type": "code",
   "execution_count": null,
   "metadata": {},
   "outputs": [],
   "source": [
    "\"\"\"Basic check to see if there is some kind of numerical correlation in Locations\"\"\"\n",
    "ax = sns.heatmap(location.corr(),vmin=0,vmax=1,cmap='Blues')\n",
    "plt.show()"
   ]
  },
  {
   "cell_type": "code",
   "execution_count": null,
   "metadata": {},
   "outputs": [],
   "source": [
    "\"\"\"Heatmap of confirmed cases across the world\"\"\"\n",
    "plt.figure(figsize=(25,10))\n",
    "plt.scatter(x=location['Long_'],y=location['Lat'],c=location['Confirmed'],cmap='Reds')\n",
    "cbar = plt.colorbar()\n",
    "cbar.set_label('# of Confirmed cases based on location')\n",
    "plt.xlabel(\"Longitude\")\n",
    "plt.title(\"Known confirmed cases based on location\")\n",
    "plt.ylabel(\"Latitude\")\n",
    "plt.savefig('../plots/task-1.3/figure1.png')"
   ]
  },
  {
   "cell_type": "code",
   "execution_count": null,
   "metadata": {},
   "outputs": [],
   "source": [
    "\"\"\"Heatmap of Incident_Rates across the world\"\"\"\n",
    "plt.figure(figsize=(25,10))\n",
    "plt.scatter(x=location['Long_'],y=location['Lat'],c=location['Incident_Rate'],cmap='gist_heat_r')\n",
    "cbar = plt.colorbar()\n",
    "cbar.set_label('Incident_Rate based on location')\n",
    "plt.xlabel(\"Longitude\")\n",
    "plt.title(\"Known Incident_Rate based on location\")\n",
    "plt.ylabel(\"Latitude\")\n",
    "plt.savefig('../plots/task-1.3/figure2.png')"
   ]
  },
  {
   "cell_type": "code",
   "execution_count": null,
   "metadata": {},
   "outputs": [],
   "source": [
    "\"\"\"Heatmap of active cases across the world\"\"\"\n",
    "plt.figure(figsize=(25,10))\n",
    "plt.scatter(x=location['Long_'],y=location['Lat'],c=location['Active'],cmap='PuRd')\n",
    "cbar = plt.colorbar()\n",
    "cbar.set_label('Active cases #')\n",
    "plt.xlabel(\"Longitude\")\n",
    "plt.title(\"Known Active # based on location\")\n",
    "plt.ylabel(\"Latitude\")\n",
    "plt.savefig('../plots/task-1.3/figure3.png')"
   ]
  },
  {
   "cell_type": "code",
   "execution_count": null,
   "metadata": {},
   "outputs": [],
   "source": [
    "\"\"\"Heatmap of recovered cases across the world\"\"\"\n",
    "plt.figure(figsize=(25,10))\n",
    "plt.scatter(x=location['Long_'],y=location['Lat'],c=location['Recovered'],cmap='viridis')\n",
    "cbar = plt.colorbar()\n",
    "cbar.set_label('Known Recovered cases #')\n",
    "plt.xlabel(\"Longitude\")\n",
    "plt.title(\"Known Recovered cases based on location\")\n",
    "plt.ylabel(\"Latitude\")\n",
    "plt.savefig('../plots/task-1.3/figure4.png')"
   ]
  },
  {
   "cell_type": "code",
   "execution_count": null,
   "metadata": {},
   "outputs": [],
   "source": [
    "\"\"\"Heatmap of case fatality ratio percentage across the world\"\"\"\n",
    "plt.figure(figsize=(25,10))\n",
    "plt.scatter(x=location['Long_'],y=location['Lat'],c=location['Case_Fatality_Ratio'],cmap='plasma')\n",
    "cbar = plt.colorbar()\n",
    "cbar.set_label('Case Fatality Ratio (%)')\n",
    "plt.xlabel(\"Longitude\")\n",
    "plt.title(\"Known Case Fatality Ratio based on location\")\n",
    "plt.ylabel(\"Latitude\")\n",
    "plt.savefig('../plots/task-1.3/figure5.png')"
   ]
  },
  {
   "cell_type": "code",
   "execution_count": null,
   "metadata": {},
   "outputs": [],
   "source": [
    "\"\"\"Creating a detailed map of mainland US since it is clustered. Therefore we will remove non mainland US territories\"\"\"\n",
    "location_US = location.loc[location['Country_Region']=='US']\n",
    "location_US = location_US[~location_US['Province_State'].isin(['Northern Mariana Islands','Guam','Hawaii','Alaska','Puerto Rico','Virgin Islands'])]"
   ]
  },
  {
   "cell_type": "code",
   "execution_count": null,
   "metadata": {},
   "outputs": [],
   "source": [
    "\"\"\"Detailed map of mainland US for Incident Rate\"\"\"\n",
    "plt.figure(figsize=(30,15))\n",
    "plt.scatter(x=location_US['Long_'],y=location_US['Lat'],c=location_US['Incident_Rate'],cmap='gist_heat_r')\n",
    "cbar = plt.colorbar()\n",
    "cbar.set_label('Incident Rate',fontsize = 30)\n",
    "plt.xlabel(\"Longitude\",fontsize = 30)\n",
    "plt.title(\"Incident Rate in mainland US\",fontsize = 40)\n",
    "plt.ylabel(\"Latitude\",fontsize = 30)\n",
    "plt.savefig('../plots/task-1.3/figure6.png')"
   ]
  },
  {
   "cell_type": "code",
   "execution_count": null,
   "metadata": {},
   "outputs": [],
   "source": [
    "\"\"\"Detailed map of mainland US for Case Fatality Ratio\"\"\"\n",
    "plt.figure(figsize=(30,15))\n",
    "plt.scatter(x=location_US['Long_'],y=location_US['Lat'],c=location_US['Case_Fatality_Ratio'],cmap='plasma')\n",
    "cbar = plt.colorbar()\n",
    "cbar.set_label('Case Fatality Ratio (%)',fontsize = 30)\n",
    "plt.xlabel(\"Longitude\",fontsize = 30)\n",
    "plt.title(\"Case Fatality Ratio in mainland US\",fontsize = 40)\n",
    "plt.ylabel(\"Latitude\",fontsize = 30)\n",
    "plt.savefig('../plots/task-1.3/figure7.png')"
   ]
  },
  {
   "cell_type": "code",
   "execution_count": null,
   "metadata": {},
   "outputs": [],
   "source": [
    "\"\"\"Checking to see if there is any correlation on outcome through Chronic disease binary\"\"\"\n",
    "chronic_d = cases_train.loc[cases_train['chronic_disease_binary']==True]\n",
    "not_chronic_d = cases_train.loc[cases_train['chronic_disease_binary']==False]"
   ]
  },
  {
   "cell_type": "code",
   "execution_count": null,
   "metadata": {},
   "outputs": [],
   "source": [
    "chronic_d=chronic_d.groupby('outcome_group').size()\n",
    "not_chronic_d=not_chronic_d.groupby('outcome_group').size()"
   ]
  },
  {
   "cell_type": "code",
   "execution_count": null,
   "metadata": {},
   "outputs": [],
   "source": [
    "ax = chronic_d.plot.bar(title=\"Outcome of cases with a chronic disease from training data\")\n",
    "plt.xticks(rotation = 0)\n",
    "plt.savefig('../plots/task-1.3/figure8.png')"
   ]
  },
  {
   "cell_type": "code",
   "execution_count": null,
   "metadata": {},
   "outputs": [],
   "source": [
    "ax = not_chronic_d.plot.bar(title=\"Outcome of cases without a chronic disease from training data\")\n",
    "plt.xticks(rotation = 0)\n",
    "plt.savefig('../plots/task-1.3/figure9.png')"
   ]
  },
  {
   "cell_type": "code",
   "execution_count": null,
   "metadata": {},
   "outputs": [],
   "source": [
    "\"\"\"Categorize training cases by outcome group\"\"\"\n",
    "plt.figure(figsize=(25,10))\n",
    "colors={'recovered':'green','deceased':'red','hospitalized':'yellow','nonhospitalized':'purple'}\n",
    "plt.scatter(x=cases_train['longitude'],y=cases_train['latitude'],c=cases_train['outcome_group'].map(colors))\n",
    "plt.xlabel(\"Longitude\",fontsize = 30)\n",
    "plt.title(\"Cases train outcome group based on location\",fontsize = 40)\n",
    "plt.ylabel(\"Latitude\",fontsize = 30)\n",
    "plt.savefig('../plots/task-1.3/figure10.png')"
   ]
  },
  {
   "cell_type": "code",
   "execution_count": null,
   "metadata": {},
   "outputs": [],
   "source": [
    "\"\"\"Create a detailed version for India since it is cluttered\"\"\"\n",
    "cases_train_india = cases_train.loc[cases_train['country']=='India']"
   ]
  },
  {
   "cell_type": "code",
   "execution_count": null,
   "metadata": {},
   "outputs": [],
   "source": [
    "plt.figure(figsize=(20,20))\n",
    "colors={'recovered':'green','deceased':'red','hospitalized':'yellow','nonhospitalized':'purple'}\n",
    "plt.scatter(x=cases_train_india['longitude'],y=cases_train_india['latitude'],c=cases_train_india['outcome_group'].map(colors))\n",
    "plt.xlabel(\"Longitude\",fontsize = 30)\n",
    "plt.title(\"Cases train outcome group in India\",fontsize = 40)\n",
    "plt.ylabel(\"Latitude\",fontsize = 30)\n",
    "plt.savefig('../plots/task-1.3/figure11.png')"
   ]
  },
  {
   "cell_type": "code",
   "execution_count": null,
   "metadata": {},
   "outputs": [],
   "source": [
    "\"\"\"Checking if there is a difference for confimed cases between train and test based on date\"\"\"\n",
    "cases_train_date = cases_train[cases_train['date_confirmation'].str.len() == 10]\n",
    "cases_train_date.loc[:,('date_confirmation')] = pd.to_datetime(cases_train_date['date_confirmation'])"
   ]
  },
  {
   "cell_type": "code",
   "execution_count": null,
   "metadata": {},
   "outputs": [],
   "source": [
    "ax = cases_train_date['date_confirmation'].hist(bins = 12)\n",
    "ax.set_xlabel('Date')\n",
    "ax.set_title('# of cases by date in training data')\n",
    "plt.savefig('../plots/task-1.3/figure12.png')"
   ]
  },
  {
   "cell_type": "code",
   "execution_count": null,
   "metadata": {},
   "outputs": [],
   "source": [
    "cases_test_date = cases_test[cases_test['date_confirmation'].str.len() == 10]\n",
    "cases_test_date.loc[:,('date_confirmation')] = pd.to_datetime(cases_test_date['date_confirmation'])"
   ]
  },
  {
   "cell_type": "code",
   "execution_count": null,
   "metadata": {},
   "outputs": [],
   "source": [
    "ax = cases_test_date['date_confirmation'].hist(bins = 12)\n",
    "ax.set_xlabel('Date')\n",
    "ax.set_title('# of cases by date in test data')\n",
    "plt.savefig('../plots/task-1.3/figure13.png')"
   ]
  },
  {
   "cell_type": "code",
   "execution_count": null,
   "metadata": {},
   "outputs": [],
   "source": [
    "\"\"\"Checking if there are any differences in outcome depending on gender\"\"\"\n",
    "cases_train_male = cases_train.loc[cases_train['sex']==\"male\"]\n",
    "cases_train_female = cases_train.loc[cases_train['sex']==\"female\"]\n",
    "cases_train_mf = pd.concat([cases_train_male,cases_train_female])\n",
    "cases_train_male = cases_train_male.groupby(\"outcome_group\").size()\n",
    "cases_train_female = cases_train_female.groupby(\"outcome_group\").size()\n",
    "cases_train_mf = cases_train_mf.groupby(\"outcome_group\").size()"
   ]
  },
  {
   "cell_type": "code",
   "execution_count": null,
   "metadata": {},
   "outputs": [],
   "source": [
    "ax = cases_train_mf.plot.bar(title=\"Total outcome group for cases with know gender cases\")\n",
    "plt.xticks(rotation = 0)\n",
    "plt.savefig('../plots/task-1.3/figure14.png')"
   ]
  },
  {
   "cell_type": "code",
   "execution_count": null,
   "metadata": {},
   "outputs": [],
   "source": [
    "ax = cases_train_male.plot.bar(title=\"Outcome Group for male cases\")\n",
    "plt.xticks(rotation = 0)\n",
    "plt.savefig('../plots/task-1.3/figure15.png')"
   ]
  },
  {
   "cell_type": "code",
   "execution_count": null,
   "metadata": {},
   "outputs": [],
   "source": [
    "ax = cases_train_female.plot.bar(title=\"Outcome Group for female cases\")\n",
    "plt.xticks(rotation = 0)\n",
    "plt.savefig('../plots/task-1.3/figure16.png')"
   ]
  },
  {
   "cell_type": "code",
   "execution_count": null,
   "metadata": {},
   "outputs": [],
   "source": [
    "\"\"\"Printing out NaN sum\"\"\"\n",
    "print(cases_train.isna().sum())"
   ]
  },
  {
   "cell_type": "code",
   "execution_count": null,
   "metadata": {},
   "outputs": [],
   "source": [
    "print(cases_test.isna().sum())"
   ]
  },
  {
   "cell_type": "code",
   "execution_count": null,
   "metadata": {},
   "outputs": [],
   "source": [
    "print(location.isna().sum())"
   ]
  },
  {
   "cell_type": "code",
   "execution_count": null,
   "metadata": {},
   "outputs": [],
   "source": []
  }
 ],
 "metadata": {
  "kernelspec": {
   "display_name": "Python 3",
   "language": "python",
   "name": "python3"
  },
  "language_info": {
   "codemirror_mode": {
    "name": "ipython",
    "version": 3
   },
   "file_extension": ".py",
   "mimetype": "text/x-python",
   "name": "python",
   "nbconvert_exporter": "python",
   "pygments_lexer": "ipython3",
   "version": "3.7.6"
  }
 },
 "nbformat": 4,
 "nbformat_minor": 4
}
